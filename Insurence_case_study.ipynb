{
 "cells": [
  {
   "cell_type": "code",
   "execution_count": 2,
   "metadata": {},
   "outputs": [],
   "source": [
    "import numpy as np\n",
    "import pandas as pd\n",
    "import datetime as dt\n",
    "import matplotlib.pyplot as plt\n",
    "import seaborn as sns\n",
    "import scipy.stats as stats\n",
    "from warnings import filterwarnings\n",
    "filterwarnings('ignore')"
   ]
  },
  {
   "cell_type": "code",
   "execution_count": 3,
   "metadata": {},
   "outputs": [],
   "source": [
    "#1)\n",
    "claims=pd.read_csv('claims.csv').convert_dtypes()\n",
    "cust = pd.read_csv('cust_demographics.csv').convert_dtypes()"
   ]
  },
  {
   "cell_type": "code",
   "execution_count": 4,
   "metadata": {},
   "outputs": [
    {
     "data": {
      "text/plain": [
       "claim_id                Int64\n",
       "customer_id             Int64\n",
       "incident_cause         string\n",
       "claim_date             string\n",
       "claim_area             string\n",
       "police_report          string\n",
       "claim_type             string\n",
       "claim_amount           string\n",
       "total_policy_claims     Int64\n",
       "fraudulent             string\n",
       "dtype: object"
      ]
     },
     "execution_count": 4,
     "metadata": {},
     "output_type": "execute_result"
    }
   ],
   "source": [
    "#2)\n",
    "claims.dtypes\n"
   ]
  },
  {
   "cell_type": "code",
   "execution_count": 5,
   "metadata": {},
   "outputs": [
    {
     "data": {
      "text/plain": [
       "CUST_ID         Int64\n",
       "gender         string\n",
       "DateOfBirth    string\n",
       "State          string\n",
       "Contact        string\n",
       "Segment        string\n",
       "dtype: object"
      ]
     },
     "execution_count": 5,
     "metadata": {},
     "output_type": "execute_result"
    }
   ],
   "source": [
    "cust.dtypes"
   ]
  },
  {
   "cell_type": "code",
   "execution_count": 6,
   "metadata": {},
   "outputs": [],
   "source": [
    "#3)\n",
    "claims['claim_amount'] = claims['claim_amount'].str[1:].astype('float')"
   ]
  },
  {
   "cell_type": "code",
   "execution_count": 7,
   "metadata": {},
   "outputs": [],
   "source": [
    "#4)\n",
    "claims['Unreported']=pd.get_dummies(claims['police_report']).drop(['Yes','Unknown'],axis=1)"
   ]
  },
  {
   "cell_type": "code",
   "execution_count": 8,
   "metadata": {},
   "outputs": [],
   "source": [
    "#5)\n",
    "claims=claims.sort_values(by='claim_date',ascending=False)\n",
    "claims.drop_duplicates(subset=['customer_id'],keep='first',inplace=True)"
   ]
  },
  {
   "cell_type": "code",
   "execution_count": 9,
   "metadata": {},
   "outputs": [],
   "source": [
    "#6)\n",
    "missing ={}\n",
    "for i in claims:\n",
    "    if pd.api.types.is_number(claims[i]):\n",
    "        missing[i]= claims[i].median()\n",
    "    else:\n",
    "        missing[i]= claims[i].mode()[0]\n",
    "claims=claims.fillna(missing)"
   ]
  },
  {
   "cell_type": "code",
   "execution_count": 10,
   "metadata": {},
   "outputs": [],
   "source": [
    "#7)\n",
    "cust['DateOfBirth'] = pd.to_datetime(cust['DateOfBirth'])\n",
    "cust['Age']= dt.datetime.today().year- cust['DateOfBirth'].dt.year\n",
    "cust['Age_group']= np.where(cust.Age<18,'Children',np.where(cust.Age<30,'Youth',np.where(cust.Age<60,'Adult','Senior')))"
   ]
  },
  {
   "cell_type": "code",
   "execution_count": 11,
   "metadata": {},
   "outputs": [
    {
     "data": {
      "text/plain": [
       "Segment\n",
       "Gold        12144.940701\n",
       "Platinum    11919.921053\n",
       "Silver      11388.066474\n",
       "Name: claim_amount, dtype: float64"
      ]
     },
     "execution_count": 11,
     "metadata": {},
     "output_type": "execute_result"
    }
   ],
   "source": [
    "#8)\n",
    "combined=cust.merge(claims,how='inner', left_on='CUST_ID',right_on='customer_id')\n",
    "combined.groupby('Segment').mean()['claim_amount']"
   ]
  },
  {
   "cell_type": "code",
   "execution_count": 12,
   "metadata": {},
   "outputs": [
    {
     "data": {
      "text/plain": [
       "incident_cause\n",
       "Crime                  672732.0\n",
       "Driver error          3177590.0\n",
       "Natural causes        1217691.5\n",
       "Other causes          3574439.0\n",
       "Other driver error    3240118.0\n",
       "Name: claim_amount, dtype: float64"
      ]
     },
     "execution_count": 12,
     "metadata": {},
     "output_type": "execute_result"
    }
   ],
   "source": [
    "#9)\n",
    "claims['claim_date'] = pd.to_datetime(claims['claim_date'])\n",
    "claims[claims['claim_date']< pd.to_datetime('10/1/2018')-dt.timedelta(days = 20)].groupby('incident_cause').sum()['claim_amount']"
   ]
  },
  {
   "cell_type": "code",
   "execution_count": 13,
   "metadata": {},
   "outputs": [
    {
     "name": "stdout",
     "output_type": "stream",
     "text": [
      "No. of adults from TX, DE and AK claimed insurance for driver related issues is 21\n"
     ]
    }
   ],
   "source": [
    "#10)\n",
    "x=combined[(combined['Age_group']=='Adult')& (combined['State'].isin(['TX','DE','AK'])&(combined['incident_cause'].isin(['Driver error','Other driver error'])))]['CUST_ID'].count()\n",
    "print(f'No. of adults from TX, DE and AK claimed insurance for driver related issues is {x}')"
   ]
  },
  {
   "cell_type": "code",
   "execution_count": 14,
   "metadata": {},
   "outputs": [
    {
     "data": {
      "image/png": "[encoded data removed]",
      "text/plain": [
       "<Figure size 432x288 with 3 Axes>"
      ]
     },
     "metadata": {},
     "output_type": "display_data"
    }
   ],
   "source": [
    "#11)\n",
    "x= combined.groupby(by=['Segment','gender']).sum()['claim_amount'].reset_index()\n",
    "x= x.pivot(index=\"Segment\", columns= \"gender\", values= \"claim_amount\")\n",
    "x=x.T\n",
    "x.plot(kind='pie',subplots= True , legend=False,autopct='%1.1f%%')\n",
    "plt.show()"
   ]
  },
  {
   "cell_type": "code",
   "execution_count": 14,
   "metadata": {},
   "outputs": [
    {
     "data": {
      "image/png": "[encoded data removed]",
      "text/plain": [
       "<Figure size 432x288 with 1 Axes>"
      ]
     },
     "metadata": {
      "needs_background": "light"
     },
     "output_type": "display_data"
    }
   ],
   "source": [
    "#12) \n",
    "x=combined[combined['incident_cause'].isin(['Driver error','Other driver error'])].groupby(by='gender').sum()['claim_amount']\n",
    "x.plot(kind='bar')\n",
    "plt.xlabel(\"Gender\")\n",
    "plt.ylabel(\"Amount\")\n",
    "plt.show()"
   ]
  },
  {
   "cell_type": "code",
   "execution_count": 15,
   "metadata": {},
   "outputs": [
    {
     "data": {
      "image/png": "[encoded data removed]",
      "text/plain": [
       "<Figure size 432x288 with 1 Axes>"
      ]
     },
     "metadata": {
      "needs_background": "light"
     },
     "output_type": "display_data"
    }
   ],
   "source": [
    "#13)\n",
    "combined[combined['fraudulent']=='Yes'].groupby('Age_group').count()['CUST_ID'].plot(kind='bar')\n",
    "plt.xlabel('Age group')\n",
    "plt.ylabel('No. of fraudulent complaints')\n",
    "plt.show()"
   ]
  },
  {
   "cell_type": "code",
   "execution_count": 41,
   "metadata": {},
   "outputs": [
    {
     "data": {
      "image/png": "[encoded data removed]",
      "text/plain": [
       "<Figure size 720x288 with 1 Axes>"
      ]
     },
     "metadata": {
      "needs_background": "light"
     },
     "output_type": "display_data"
    }
   ],
   "source": [
    "#14)\n",
    "combined['claim_date']= pd.to_datetime(combined['claim_date']).sort_values()\n",
    "monthly_trend=combined.groupby(by=[combined.claim_date.dt.strftime('%B')]).sum()['claim_amount'].to_frame()\n",
    "new_order = ['January', 'February', 'March', 'April', 'May', 'June', 'July', 'August', 'September', 'October', 'November', 'December']\n",
    "monthly_trend=monthly_trend.reindex(new_order, axis=0)\n",
    "monthly_trend.plot(kind='line',legend=False,figsize=(10,4))\n",
    "plt.xlabel('Month')\n",
    "plt.ylabel('Amount')\n",
    "plt.show()"
   ]
  },
  {
   "cell_type": "code",
   "execution_count": 45,
   "metadata": {},
   "outputs": [
    {
     "data": {
      "image/png": "[encoded data removed]",
      "text/plain": [
       "<Figure size 360x432 with 3 Axes>"
      ]
     },
     "metadata": {
      "needs_background": "light"
     },
     "output_type": "display_data"
    }
   ],
   "source": [
    "#15)\n",
    "combined.groupby(by=['gender','Age_group']).mean()['claim_amount'].unstack(1).plot(kind='bar',xlabel='Gender',ylabel='Amount' ,subplots=True,legend=False,figsize=(5,6))\n",
    "plt.show()"
   ]
  },
  {
   "cell_type": "code",
   "execution_count": 18,
   "metadata": {},
   "outputs": [
    {
     "name": "stdout",
     "output_type": "stream",
     "text": [
      "Female average=  11502.906072106261\n",
      "Female std.=  13361.972567964483\n",
      "Male average=  12136.304900181489\n",
      "Male std.=  13849.741417591147\n"
     ]
    }
   ],
   "source": [
    "\"\"\"\n",
    "16.  Is there any similarity in the amount claimed by males and females?\n",
    "\n",
    "H0 = Avg_male = Avg_female\n",
    "Ha = Avg_male <> Avg_female\n",
    "Confidence level = 95 %\n",
    "Alpha =  0.05\n",
    "\"\"\"\n",
    "\n",
    "f_amount = combined[combined['gender']=='Female']['claim_amount']\n",
    "m_amount = combined[combined['gender']=='Male']['claim_amount']\n",
    "print('Female average= ',f_amount.mean())\n",
    "print('Female std.= ',f_amount.std())\n",
    "print('Male average= ',m_amount.mean())\n",
    "print('Male std.= ',m_amount.std())"
   ]
  },
  {
   "cell_type": "code",
   "execution_count": 19,
   "metadata": {},
   "outputs": [
    {
     "name": "stdout",
     "output_type": "stream",
     "text": [
      "P value=  0.4452584916719806\n",
      "T statistic=  0.7636244222217057\n",
      "Conclusion: We can not reject null hypothesis because the value of p is greater than 0.05 \n",
      "Buisness conclusion: The Average for Male and female customers is not equal.\n"
     ]
    }
   ],
   "source": [
    "test =stats.ttest_ind(m_amount,f_amount)\n",
    "print('P value= ',test.pvalue)\n",
    "print('T statistic= ',test.statistic)\n",
    "print('Conclusion: We can not reject null hypothesis because the value of p is greater than 0.05 \\nBuisness conclusion: The Average for Male and female customers is not equal.')"
   ]
  },
  {
   "cell_type": "code",
   "execution_count": 20,
   "metadata": {},
   "outputs": [
    {
     "name": "stdout",
     "output_type": "stream",
     "text": [
      "Chi value=  0.5886720425407048\n",
      "P value=  0.9643141241774152\n",
      "Conclusion: We can not reject null hypothesis because the value of p is greater than 0.05 \n",
      "Buisness conclusion: There is no relaionship between Age_group and segment \n"
     ]
    }
   ],
   "source": [
    "\"\"\"\n",
    "17. Is there any relationship between age category and segment?\n",
    "H0= chi_square = 0\n",
    "Ha = chi_square <>0\n",
    "Confidence level = 95%\n",
    "\"\"\"\n",
    "crosst = pd.crosstab(combined.Age_group,combined.Segment)\n",
    "chi=stats.chi2_contingency(crosst)\n",
    "print('Chi value= ',chi[0])\n",
    "print('P value= ',chi[1])\n",
    "print('Conclusion: We can not reject null hypothesis because the value of p is greater than 0.05 \\nBuisness conclusion: There is no relaionship between Age_group and segment ')"
   ]
  },
  {
   "cell_type": "code",
   "execution_count": null,
   "metadata": {},
   "outputs": [],
   "source": [
    "\"\"\"\n",
    "18.  The current year has shown a significant rise in claim amounts as compared to 2016-17 fiscal average which was $10,000.\n",
    "H0: Amount in 2018< $10000\n",
    "Ha: Amount in 2018> $10000\n",
    "\n",
    "confidence level = 95%\n",
    "\"\"\""
   ]
  },
  {
   "cell_type": "code",
   "execution_count": 22,
   "metadata": {},
   "outputs": [],
   "source": [
    "combined_year = combined.groupby(by='claim_date')['claim_amount'].sum().reset_index()\n",
    "combined_year['year']=combined_year['claim_date'].apply(lambda x : pd.Timestamp.strftime(x ,format=\"%Y\"))"
   ]
  },
  {
   "cell_type": "code",
   "execution_count": 23,
   "metadata": {},
   "outputs": [],
   "source": [
    "after=combined_year.loc[combined_year.year=='2018','claim_amount']\n"
   ]
  },
  {
   "cell_type": "code",
   "execution_count": 24,
   "metadata": {},
   "outputs": [
    {
     "name": "stdout",
     "output_type": "stream",
     "text": [
      "T-statistic=  15.93033530043373\n",
      "Pvalue= 6.938131263079584e-20\n",
      "Conclusion: The pvalue for this test is less than 0.05, which meansn we can reject the null hypothesis\n",
      "Buisness conclusion: Current year amount is greater than amount in 2016-17 \n"
     ]
    }
   ],
   "source": [
    "t = stats.ttest_1samp(after,10000)\n",
    "print('T-statistic= ',t.statistic)\n",
    "print('Pvalue=',t.pvalue)\n",
    "print('Conclusion: The pvalue for this test is less than 0.05, which meansn we can reject the null hypothesis\\nBuisness conclusion: Current year amount is greater than amount in 2016-17 ')"
   ]
  },
  {
   "cell_type": "code",
   "execution_count": 25,
   "metadata": {},
   "outputs": [
    {
     "data": {
      "text/plain": [
       "'\\n19. Is there any difference between age groups and insurance claims?\\n\\n'"
      ]
     },
     "execution_count": 25,
     "metadata": {},
     "output_type": "execute_result"
    }
   ],
   "source": [
    "\"\"\"\n",
    "19. Is there any difference between age groups and insurance claims?\n",
    "\n",
    "\"\"\""
   ]
  },
  {
   "cell_type": "code",
   "execution_count": 26,
   "metadata": {},
   "outputs": [
    {
     "name": "stdout",
     "output_type": "stream",
     "text": [
      "Adult       535\n",
      "Children    335\n",
      "Youth       208\n",
      "Name: Age_group, dtype: int64\n"
     ]
    }
   ],
   "source": [
    "print(combined['Age_group'].value_counts())\n",
    "a1=combined[combined['Age_group']=='Adult']['claim_amount']\n",
    "a2=combined[combined['Age_group']=='Children']['claim_amount']\n",
    "a3=combined[combined['Age_group']=='Youth']['claim_amount']\n",
    "a4=combined[combined['Age_group']=='Adult']['claim_amount']\n",
    "\n",
    " # No records in senior"
   ]
  },
  {
   "cell_type": "code",
   "execution_count": null,
   "metadata": {},
   "outputs": [],
   "source": [
    "\"\"\"\n",
    "Hypothesis:\n",
    "H0: There is no difference between age_groups and insurence claims\n",
    "Ha: There is a relationship between age_groups and insurence claims\n",
    "confidence level = 95%\n",
    "\n",
    "\"\"\""
   ]
  },
  {
   "cell_type": "code",
   "execution_count": 27,
   "metadata": {},
   "outputs": [
    {
     "name": "stdout",
     "output_type": "stream",
     "text": [
      "F- statistic=  1.564373056457609\n",
      "Pvalue 0.20969505131797253\n",
      "Conclusin: The pvalue is greater than 0.05 so we dont have enough evidence to reject null hypotheis\n",
      "Buisness conclusion: Because we can not reject null H0 we can not say that there is a relationship between age_groups and claims\n"
     ]
    }
   ],
   "source": [
    "f = stats.f_oneway(a1,a2,a3)\n",
    "print('F- statistic= ',f.statistic)\n",
    "print('Pvalue',f.pvalue)\n",
    "print('Conclusin: The pvalue is greater than 0.05 so we dont have enough evidence to reject null hypotheis\\nBuisness conclusion: Because we can not reject null H0 we can not say that there is a relationship between age_groups and claims')"
   ]
  },
  {
   "cell_type": "code",
   "execution_count": null,
   "metadata": {},
   "outputs": [],
   "source": [
    "\"\"\"20. Is there any relationship between total number of policy claims and the \n",
    "claimed amount?\"\"\"\n"
   ]
  },
  {
   "cell_type": "code",
   "execution_count": 29,
   "metadata": {},
   "outputs": [
    {
     "data": {
      "text/plain": [
       "<IntegerArray>\n",
       "[1, 3, 6, 2, 4, 5, 7, 8]\n",
       "Length: 8, dtype: Int64"
      ]
     },
     "execution_count": 29,
     "metadata": {},
     "output_type": "execute_result"
    }
   ],
   "source": [
    "combined['total_policy_claims'].unique()"
   ]
  },
  {
   "cell_type": "code",
   "execution_count": null,
   "metadata": {},
   "outputs": [],
   "source": [
    "\"\"\"Hypothesis:\n",
    "H0: pearson's r = 0\n",
    "Ha: pearson's r <> 0\n",
    "\n",
    "confidence level = 95%\n",
    "\"\"\""
   ]
  },
  {
   "cell_type": "code",
   "execution_count": 31,
   "metadata": {},
   "outputs": [
    {
     "data": {
      "text/plain": [
       "(-0.016200349545669672, 0.5951953931995123)"
      ]
     },
     "execution_count": 31,
     "metadata": {},
     "output_type": "execute_result"
    }
   ],
   "source": [
    "stats.pearsonr(combined.total_policy_claims, combined.claim_amount)\n"
   ]
  },
  {
   "cell_type": "code",
   "execution_count": 32,
   "metadata": {},
   "outputs": [
    {
     "name": "stdout",
     "output_type": "stream",
     "text": [
      "Conclussion: The pvalue for this test is greater than 0.5, so we can not reject the null hypothesis.\n",
      "Buisness conclusion: There is no relationship between the no. of policy claims and claim amount\n"
     ]
    }
   ],
   "source": [
    "print('Conclussion: The pvalue for this test is greater than 0.5, so we can not reject the null hypothesis.\\nBuisness conclusion: There is no relationship between the no. of policy claims and claim amount')"
   ]
  }
 ],
 "metadata": {
  "kernelspec": {
   "display_name": "Python 3.9.12 ('base')",
   "language": "python",
   "name": "python3"
  },
  "language_info": {
   "codemirror_mode": {
    "name": "ipython",
    "version": 3
   },
   "file_extension": ".py",
   "mimetype": "text/x-python",
   "name": "python",
   "nbconvert_exporter": "python",
   "pygments_lexer": "ipython3",
   "version": "3.9.12"
  },
  "orig_nbformat": 4,
  "vscode": {
   "interpreter": {
    "hash": "dc07d24e2f18896857f0b2a651fe84ba40ce7b297e58d8804a308c8039f752a6"
   }
  }
 },
 "nbformat": 4,
 "nbformat_minor": 2
}
